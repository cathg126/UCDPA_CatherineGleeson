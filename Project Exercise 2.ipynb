{
 "cells": [
  {
   "cell_type": "code",
   "execution_count": 262,
   "id": "9dad5a04",
   "metadata": {},
   "outputs": [
    {
     "data": {
      "text/html": [
       "<div>\n",
       "<style scoped>\n",
       "    .dataframe tbody tr th:only-of-type {\n",
       "        vertical-align: middle;\n",
       "    }\n",
       "\n",
       "    .dataframe tbody tr th {\n",
       "        vertical-align: top;\n",
       "    }\n",
       "\n",
       "    .dataframe thead th {\n",
       "        text-align: right;\n",
       "    }\n",
       "</style>\n",
       "<table border=\"1\" class=\"dataframe\">\n",
       "  <thead>\n",
       "    <tr style=\"text-align: right;\">\n",
       "      <th></th>\n",
       "      <th>Country or Area</th>\n",
       "      <th>Internet Users</th>\n",
       "      <th>Population</th>\n",
       "      <th>Rank</th>\n",
       "      <th>Percentage</th>\n",
       "      <th>Rank.1</th>\n",
       "    </tr>\n",
       "  </thead>\n",
       "  <tbody>\n",
       "    <tr>\n",
       "      <th>0</th>\n",
       "      <td>China</td>\n",
       "      <td>765,367,947</td>\n",
       "      <td>1,409,517,397</td>\n",
       "      <td>1</td>\n",
       "      <td>54.30%</td>\n",
       "      <td>116.0</td>\n",
       "    </tr>\n",
       "    <tr>\n",
       "      <th>1</th>\n",
       "      <td>India</td>\n",
       "      <td>461,347,554</td>\n",
       "      <td>1,339,180,127</td>\n",
       "      <td>2</td>\n",
       "      <td>34.45%</td>\n",
       "      <td>145.0</td>\n",
       "    </tr>\n",
       "    <tr>\n",
       "      <th>2</th>\n",
       "      <td>United States</td>\n",
       "      <td>244,090,854</td>\n",
       "      <td>324,459,463</td>\n",
       "      <td>3</td>\n",
       "      <td>75.23%</td>\n",
       "      <td>68.0</td>\n",
       "    </tr>\n",
       "    <tr>\n",
       "      <th>3</th>\n",
       "      <td>Brazil</td>\n",
       "      <td>141,206,801</td>\n",
       "      <td>209,288,278</td>\n",
       "      <td>4</td>\n",
       "      <td>67.47%</td>\n",
       "      <td>83.0</td>\n",
       "    </tr>\n",
       "    <tr>\n",
       "      <th>4</th>\n",
       "      <td>Japan</td>\n",
       "      <td>115,845,120</td>\n",
       "      <td>127,484,450</td>\n",
       "      <td>5</td>\n",
       "      <td>90.87%</td>\n",
       "      <td>23.0</td>\n",
       "    </tr>\n",
       "    <tr>\n",
       "      <th>...</th>\n",
       "      <td>...</td>\n",
       "      <td>...</td>\n",
       "      <td>...</td>\n",
       "      <td>...</td>\n",
       "      <td>...</td>\n",
       "      <td>...</td>\n",
       "    </tr>\n",
       "    <tr>\n",
       "      <th>210</th>\n",
       "      <td>Falkland Islands</td>\n",
       "      <td>2,881</td>\n",
       "      <td>2,910</td>\n",
       "      <td>211</td>\n",
       "      <td>99.02% (2016)</td>\n",
       "      <td>NaN</td>\n",
       "    </tr>\n",
       "    <tr>\n",
       "      <th>211</th>\n",
       "      <td>Montserrat</td>\n",
       "      <td>2,833</td>\n",
       "      <td>5,177</td>\n",
       "      <td>212</td>\n",
       "      <td>54.55% (2013)</td>\n",
       "      <td>115.0</td>\n",
       "    </tr>\n",
       "    <tr>\n",
       "      <th>212</th>\n",
       "      <td>Wallis and Futuna</td>\n",
       "      <td>1,383</td>\n",
       "      <td>11,773</td>\n",
       "      <td>213</td>\n",
       "      <td>8.95% (2012)</td>\n",
       "      <td>NaN</td>\n",
       "    </tr>\n",
       "    <tr>\n",
       "      <th>213</th>\n",
       "      <td>Niue</td>\n",
       "      <td>1,034</td>\n",
       "      <td>1,618</td>\n",
       "      <td>214</td>\n",
       "      <td>86.90% (2013)</td>\n",
       "      <td>30.0</td>\n",
       "    </tr>\n",
       "    <tr>\n",
       "      <th>214</th>\n",
       "      <td>Ascension</td>\n",
       "      <td>361</td>\n",
       "      <td>806</td>\n",
       "      <td>215</td>\n",
       "      <td>41.03% (2012)</td>\n",
       "      <td>NaN</td>\n",
       "    </tr>\n",
       "  </tbody>\n",
       "</table>\n",
       "<p>215 rows × 6 columns</p>\n",
       "</div>"
      ],
      "text/plain": [
       "       Country or Area Internet Users     Population  Rank     Percentage  \\\n",
       "0                China    765,367,947  1,409,517,397     1         54.30%   \n",
       "1                India    461,347,554  1,339,180,127     2         34.45%   \n",
       "2        United States    244,090,854    324,459,463     3         75.23%   \n",
       "3               Brazil    141,206,801    209,288,278     4         67.47%   \n",
       "4                Japan    115,845,120    127,484,450     5         90.87%   \n",
       "..                 ...            ...            ...   ...            ...   \n",
       "210   Falkland Islands          2,881          2,910   211  99.02% (2016)   \n",
       "211         Montserrat          2,833          5,177   212  54.55% (2013)   \n",
       "212  Wallis and Futuna          1,383         11,773   213   8.95% (2012)   \n",
       "213               Niue          1,034          1,618   214  86.90% (2013)   \n",
       "214          Ascension            361            806   215  41.03% (2012)   \n",
       "\n",
       "     Rank.1  \n",
       "0     116.0  \n",
       "1     145.0  \n",
       "2      68.0  \n",
       "3      83.0  \n",
       "4      23.0  \n",
       "..      ...  \n",
       "210     NaN  \n",
       "211   115.0  \n",
       "212     NaN  \n",
       "213    30.0  \n",
       "214     NaN  \n",
       "\n",
       "[215 rows x 6 columns]"
      ]
     },
     "execution_count": 262,
     "metadata": {},
     "output_type": "execute_result"
    }
   ],
   "source": [
    "import pandas as pd\n",
    "import numpy as np\n",
    "import matplotlib.pyplot as plt\n",
    "import seaborn as sns\n",
    "npexdf = pd.read_csv(\"List of Countries by number of Internet Users.csv\")\n",
    "npexdf"
   ]
  },
  {
   "cell_type": "code",
   "execution_count": 28,
   "id": "20d01c74",
   "metadata": {},
   "outputs": [
    {
     "name": "stdout",
     "output_type": "stream",
     "text": [
      "[['China' '765,367,947' '1,409,517,397' 1 '54.30%' 116.0]\n",
      " ['India' '461,347,554' '1,339,180,127' 2 '34.45%' 145.0]\n",
      " ['United States' '244,090,854' '324,459,463' 3 '75.23%' 68.0]\n",
      " ...\n",
      " ['Wallis and Futuna' '1,383' '11,773' 213 '8.95% (2012)' nan]\n",
      " ['Niue' '1,034' '1,618' 214 '86.90% (2013)' 30.0]\n",
      " ['Ascension' '361' '806' 215 '41.03% (2012)' nan]]\n"
     ]
    }
   ],
   "source": [
    "import csv\n",
    "import numpy as np\n",
    " \n",
    "with open(\"List of Countries by number of Internet Users.csv\") as f:\n",
    "    data = list(csv.reader(f, delimiter=\";\"))\n",
    " \n",
    "data = np.array(npexdf)\n",
    "print(data)"
   ]
  },
  {
   "cell_type": "code",
   "execution_count": 29,
   "id": "09e42a44",
   "metadata": {},
   "outputs": [
    {
     "data": {
      "text/plain": [
       "1290"
      ]
     },
     "execution_count": 29,
     "metadata": {},
     "output_type": "execute_result"
    }
   ],
   "source": [
    "data.size"
   ]
  },
  {
   "cell_type": "code",
   "execution_count": 30,
   "id": "6269c18b",
   "metadata": {},
   "outputs": [
    {
     "data": {
      "text/plain": [
       "(215, 6)"
      ]
     },
     "execution_count": 30,
     "metadata": {},
     "output_type": "execute_result"
    }
   ],
   "source": [
    "data.shape"
   ]
  },
  {
   "cell_type": "code",
   "execution_count": 31,
   "id": "8a89cb14",
   "metadata": {},
   "outputs": [
    {
     "data": {
      "text/plain": [
       "array([['China', '765,367,947', '1,409,517,397', 1, '54.30%', 116.0],\n",
       "       ['India', '461,347,554', '1,339,180,127', 2, '34.45%', 145.0],\n",
       "       ['United States', '244,090,854', '324,459,463', 3, '75.23%', 68.0],\n",
       "       ...,\n",
       "       ['Wallis and Futuna', '1,383', '11,773', 213, '8.95% (2012)', nan],\n",
       "       ['Niue', '1,034', '1,618', 214, '86.90% (2013)', 30.0],\n",
       "       ['Ascension', '361', '806', 215, '41.03% (2012)', nan]],\n",
       "      dtype=object)"
      ]
     },
     "execution_count": 31,
     "metadata": {},
     "output_type": "execute_result"
    }
   ],
   "source": [
    "jobs_arr = np.array(npexdf)\n",
    "jobs_arr"
   ]
  },
  {
   "cell_type": "code",
   "execution_count": 45,
   "id": "ba6af7e5",
   "metadata": {},
   "outputs": [
    {
     "data": {
      "text/plain": [
       "array([['China', '765,367,947', '1,409,517,397', 1, '54.30%', 116.0],\n",
       "       ['India', '461,347,554', '1,339,180,127', 2, '34.45%', 145.0],\n",
       "       ['United States', '244,090,854', '324,459,463', 3, '75.23%', 68.0],\n",
       "       ['Brazil', '141,206,801', '209,288,278', 4, '67.47%', 83.0],\n",
       "       ['Japan', '115,845,120', '127,484,450', 5, '90.87%', 23.0],\n",
       "       ['Russia', '109,446,612', '143,989,754', 6, '76.01%', 64.0],\n",
       "       ['Indonesia', '85,242,816', '263,991,379', 7, '32.29%', 150.0],\n",
       "       ['Mexico', '82,470,752', '129,163,276', 8, '63.85%', 92.0],\n",
       "       ['Germany', '69,304,405', '82,114,224', 9, '84.40%', 36.0],\n",
       "       ['Philippines', '63,003,313', '104,918,090', 10, '60.05%', 103.0],\n",
       "       ['United Kingdom', '62,621,016', '66,181,585', 11, '94.62%', 18.0],\n",
       "       ['Pakistan', '61,837,331', '220,800,300', 25, '30.68%', 184.0],\n",
       "       ['France', '52,308,536', '64,979,548', 13, '80.50%', 50.0],\n",
       "       ['Turkey', '52,225,879', '80,745,020', 14, '64.68%', 89.0],\n",
       "       ['Iran', '49,038,556', '81,162,788', 15, '60.42%', 101.0]],\n",
       "      dtype=object)"
      ]
     },
     "execution_count": 45,
     "metadata": {},
     "output_type": "execute_result"
    }
   ],
   "source": [
    "two_d_arr[0:15,0:10]"
   ]
  },
  {
   "cell_type": "code",
   "execution_count": 80,
   "id": "2afb93c8",
   "metadata": {},
   "outputs": [
    {
     "data": {
      "text/plain": [
       "array([['China', '765,367,947', '1,409,517,397', 1, '54.30%', 116.0],\n",
       "       ['India', '461,347,554', '1,339,180,127', 2, '34.45%', 145.0],\n",
       "       ['United States', '244,090,854', '324,459,463', 3, '75.23%', 68.0],\n",
       "       ['Brazil', '141,206,801', '209,288,278', 4, '67.47%', 83.0],\n",
       "       ['Japan', '115,845,120', '127,484,450', 5, '90.87%', 23.0],\n",
       "       ['Russia', '109,446,612', '143,989,754', 6, '76.01%', 64.0],\n",
       "       ['Indonesia', '85,242,816', '263,991,379', 7, '32.29%', 150.0],\n",
       "       ['Mexico', '82,470,752', '129,163,276', 8, '63.85%', 92.0],\n",
       "       ['Germany', '69,304,405', '82,114,224', 9, '84.40%', 36.0],\n",
       "       ['Philippines', '63,003,313', '104,918,090', 10, '60.05%', 103.0]],\n",
       "      dtype=object)"
      ]
     },
     "execution_count": 80,
     "metadata": {},
     "output_type": "execute_result"
    }
   ],
   "source": [
    "exarray = two_d_arr[0:10,0:10]\n",
    "exarray"
   ]
  },
  {
   "cell_type": "code",
   "execution_count": 260,
   "id": "a66b3c2d",
   "metadata": {},
   "outputs": [
    {
     "data": {
      "text/plain": [
       "array(['54.30%', '34.45%', '75.23%', '67.47%', '90.87%', '76.01%',\n",
       "       '32.29%', '63.85%', '84.40%', '60.05%'], dtype=object)"
      ]
     },
     "execution_count": 260,
     "metadata": {},
     "output_type": "execute_result"
    }
   ],
   "source": [
    "TopTen = exarray[:,4]\n",
    "TopTen"
   ]
  },
  {
   "cell_type": "code",
   "execution_count": 261,
   "id": "7fe94f3a",
   "metadata": {},
   "outputs": [
    {
     "data": {
      "text/plain": [
       "0    54.300\n",
       "1    34.450\n",
       "2    75.230\n",
       "3    67.470\n",
       "4    90.870\n",
       "5    76.010\n",
       "6    32.290\n",
       "7    63.850\n",
       "8    84.400\n",
       "9    60.050\n",
       "Name: % Internet Users of Top Ten Countries by Population, dtype: object"
      ]
     },
     "execution_count": 261,
     "metadata": {},
     "output_type": "execute_result"
    }
   ],
   "source": [
    "df = pd.DataFrame(TopTen,columns=['% Internet Users of Top Ten Countries by Population'])\n",
    "df2 = df.loc[:, '% Internet Users of Top Ten Countries by Population'].replace(regex=True, to_replace=\"%\", value=\"0\",)\n",
    "df2"
   ]
  },
  {
   "cell_type": "code",
   "execution_count": 186,
   "id": "e94aeb9c",
   "metadata": {},
   "outputs": [
    {
     "data": {
      "text/plain": [
       "0    54.30\n",
       "1    34.45\n",
       "2    75.23\n",
       "3    67.47\n",
       "4    90.87\n",
       "5    76.01\n",
       "6    32.29\n",
       "7    63.85\n",
       "8    84.40\n",
       "9    60.05\n",
       "Name: % Internet Users of Top Ten Countries by Population, dtype: float64"
      ]
     },
     "execution_count": 186,
     "metadata": {},
     "output_type": "execute_result"
    }
   ],
   "source": [
    "df3 = df2.astype(float)\n",
    "df3"
   ]
  },
  {
   "cell_type": "code",
   "execution_count": 187,
   "id": "8b2cccee",
   "metadata": {},
   "outputs": [
    {
     "data": {
      "text/plain": [
       "63.89200000000001"
      ]
     },
     "execution_count": 187,
     "metadata": {},
     "output_type": "execute_result"
    }
   ],
   "source": [
    "df3.mean()"
   ]
  },
  {
   "cell_type": "code",
   "execution_count": 188,
   "id": "61537371",
   "metadata": {},
   "outputs": [
    {
     "data": {
      "text/html": [
       "<div>\n",
       "<style scoped>\n",
       "    .dataframe tbody tr th:only-of-type {\n",
       "        vertical-align: middle;\n",
       "    }\n",
       "\n",
       "    .dataframe tbody tr th {\n",
       "        vertical-align: top;\n",
       "    }\n",
       "\n",
       "    .dataframe thead th {\n",
       "        text-align: right;\n",
       "    }\n",
       "</style>\n",
       "<table border=\"1\" class=\"dataframe\">\n",
       "  <thead>\n",
       "    <tr style=\"text-align: right;\">\n",
       "      <th></th>\n",
       "      <th>Country</th>\n",
       "    </tr>\n",
       "  </thead>\n",
       "  <tbody>\n",
       "    <tr>\n",
       "      <th>0</th>\n",
       "      <td>China</td>\n",
       "    </tr>\n",
       "    <tr>\n",
       "      <th>1</th>\n",
       "      <td>India</td>\n",
       "    </tr>\n",
       "    <tr>\n",
       "      <th>2</th>\n",
       "      <td>United States</td>\n",
       "    </tr>\n",
       "    <tr>\n",
       "      <th>3</th>\n",
       "      <td>Brazil</td>\n",
       "    </tr>\n",
       "    <tr>\n",
       "      <th>4</th>\n",
       "      <td>Japan</td>\n",
       "    </tr>\n",
       "    <tr>\n",
       "      <th>5</th>\n",
       "      <td>Russia</td>\n",
       "    </tr>\n",
       "    <tr>\n",
       "      <th>6</th>\n",
       "      <td>Indonesia</td>\n",
       "    </tr>\n",
       "    <tr>\n",
       "      <th>7</th>\n",
       "      <td>Mexico</td>\n",
       "    </tr>\n",
       "    <tr>\n",
       "      <th>8</th>\n",
       "      <td>Germany</td>\n",
       "    </tr>\n",
       "    <tr>\n",
       "      <th>9</th>\n",
       "      <td>Philippines</td>\n",
       "    </tr>\n",
       "  </tbody>\n",
       "</table>\n",
       "</div>"
      ],
      "text/plain": [
       "         Country\n",
       "0          China\n",
       "1          India\n",
       "2  United States\n",
       "3         Brazil\n",
       "4          Japan\n",
       "5         Russia\n",
       "6      Indonesia\n",
       "7         Mexico\n",
       "8        Germany\n",
       "9    Philippines"
      ]
     },
     "execution_count": 188,
     "metadata": {},
     "output_type": "execute_result"
    }
   ],
   "source": [
    "df4 = pd.DataFrame(TopTen2,columns=['Country'])\n",
    "df4"
   ]
  },
  {
   "cell_type": "code",
   "execution_count": 264,
   "id": "8778860d",
   "metadata": {},
   "outputs": [
    {
     "data": {
      "text/html": [
       "<div>\n",
       "<style scoped>\n",
       "    .dataframe tbody tr th:only-of-type {\n",
       "        vertical-align: middle;\n",
       "    }\n",
       "\n",
       "    .dataframe tbody tr th {\n",
       "        vertical-align: top;\n",
       "    }\n",
       "\n",
       "    .dataframe thead th {\n",
       "        text-align: right;\n",
       "    }\n",
       "</style>\n",
       "<table border=\"1\" class=\"dataframe\">\n",
       "  <thead>\n",
       "    <tr style=\"text-align: right;\">\n",
       "      <th></th>\n",
       "      <th>Country</th>\n",
       "      <th>% Internet Users of Top Ten Countries by Population</th>\n",
       "    </tr>\n",
       "  </thead>\n",
       "  <tbody>\n",
       "    <tr>\n",
       "      <th>0</th>\n",
       "      <td>China</td>\n",
       "      <td>54.30</td>\n",
       "    </tr>\n",
       "    <tr>\n",
       "      <th>1</th>\n",
       "      <td>India</td>\n",
       "      <td>34.45</td>\n",
       "    </tr>\n",
       "    <tr>\n",
       "      <th>2</th>\n",
       "      <td>United States</td>\n",
       "      <td>75.23</td>\n",
       "    </tr>\n",
       "    <tr>\n",
       "      <th>3</th>\n",
       "      <td>Brazil</td>\n",
       "      <td>67.47</td>\n",
       "    </tr>\n",
       "    <tr>\n",
       "      <th>4</th>\n",
       "      <td>Japan</td>\n",
       "      <td>90.87</td>\n",
       "    </tr>\n",
       "    <tr>\n",
       "      <th>5</th>\n",
       "      <td>Russia</td>\n",
       "      <td>76.01</td>\n",
       "    </tr>\n",
       "    <tr>\n",
       "      <th>6</th>\n",
       "      <td>Indonesia</td>\n",
       "      <td>32.29</td>\n",
       "    </tr>\n",
       "    <tr>\n",
       "      <th>7</th>\n",
       "      <td>Mexico</td>\n",
       "      <td>63.85</td>\n",
       "    </tr>\n",
       "    <tr>\n",
       "      <th>8</th>\n",
       "      <td>Germany</td>\n",
       "      <td>84.40</td>\n",
       "    </tr>\n",
       "    <tr>\n",
       "      <th>9</th>\n",
       "      <td>Philippines</td>\n",
       "      <td>60.05</td>\n",
       "    </tr>\n",
       "  </tbody>\n",
       "</table>\n",
       "</div>"
      ],
      "text/plain": [
       "         Country  % Internet Users of Top Ten Countries by Population\n",
       "0          China                                              54.30  \n",
       "1          India                                              34.45  \n",
       "2  United States                                              75.23  \n",
       "3         Brazil                                              67.47  \n",
       "4          Japan                                              90.87  \n",
       "5         Russia                                              76.01  \n",
       "6      Indonesia                                              32.29  \n",
       "7         Mexico                                              63.85  \n",
       "8        Germany                                              84.40  \n",
       "9    Philippines                                              60.05  "
      ]
     },
     "execution_count": 264,
     "metadata": {},
     "output_type": "execute_result"
    }
   ],
   "source": [
    "dfh = pd.concat([df4,df3], axis=1)\n",
    "dfh"
   ]
  },
  {
   "cell_type": "code",
   "execution_count": 267,
   "id": "13b42fd7",
   "metadata": {},
   "outputs": [
    {
     "data": {
      "image/png": "[encoded data removed]",
      "text/plain": [
       "<Figure size 432x288 with 1 Axes>"
      ]
     },
     "metadata": {
      "needs_background": "light"
     },
     "output_type": "display_data"
    }
   ],
   "source": [
    "ax = dfh.plot.bar(x='Country', y='% Internet Users of Top Ten Countries by Population')"
   ]
  },
  {
   "cell_type": "code",
   "execution_count": null,
   "id": "7f5a0fb6",
   "metadata": {},
   "outputs": [],
   "source": []
  }
 ],
 "metadata": {
  "kernelspec": {
   "display_name": "Python 3",
   "language": "python",
   "name": "python3"
  },
  "language_info": {
   "codemirror_mode": {
    "name": "ipython",
    "version": 3
   },
   "file_extension": ".py",
   "mimetype": "text/x-python",
   "name": "python",
   "nbconvert_exporter": "python",
   "pygments_lexer": "ipython3",
   "version": "3.8.8"
  }
 },
 "nbformat": 4,
 "nbformat_minor": 5
}
